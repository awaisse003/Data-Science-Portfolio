{
 "cells": [
  {
   "cell_type": "markdown",
   "id": "efc8f51c",
   "metadata": {},
   "source": [
    "Question 1: Write a Python function to check whether a given number is prime or not.\n",
    "Hint: Use loops and conditions."
   ]
  },
  {
   "cell_type": "code",
   "execution_count": 47,
   "id": "ecfd9cff",
   "metadata": {},
   "outputs": [
    {
     "data": {
      "text/plain": [
       "True"
      ]
     },
     "execution_count": 47,
     "metadata": {},
     "output_type": "execute_result"
    }
   ],
   "source": [
    "def check_prime(number):\n",
    "#     if number is negative or 1\n",
    "    if number <= 1:\n",
    "        return False\n",
    "    \n",
    "#     if number is divided by number then false\n",
    "    for i in range(2,number-1):\n",
    "        if number % i == 0:\n",
    "            return False\n",
    "    return True\n",
    "\n",
    "check_prime(13)\n"
   ]
  },
  {
   "cell_type": "code",
   "execution_count": 2,
   "id": "4f33c4d0",
   "metadata": {},
   "outputs": [
    {
     "name": "stdout",
     "output_type": "stream",
     "text": [
      "10\n"
     ]
    }
   ],
   "source": []
  },
  {
   "cell_type": "code",
   "execution_count": null,
   "id": "2bf1e9fc",
   "metadata": {},
   "outputs": [],
   "source": []
  }
 ],
 "metadata": {
  "kernelspec": {
   "display_name": "Python 3 (ipykernel)",
   "language": "python",
   "name": "python3"
  },
  "language_info": {
   "codemirror_mode": {
    "name": "ipython",
    "version": 3
   },
   "file_extension": ".py",
   "mimetype": "text/x-python",
   "name": "python",
   "nbconvert_exporter": "python",
   "pygments_lexer": "ipython3",
   "version": "3.10.12"
  }
 },
 "nbformat": 4,
 "nbformat_minor": 5
}
