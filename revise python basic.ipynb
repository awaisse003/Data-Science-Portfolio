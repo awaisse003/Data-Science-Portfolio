{
 "cells": [
  {
   "cell_type": "markdown",
   "id": "efc8f51c",
   "metadata": {},
   "source": [
    "Question 1: Write a Python function to check whether a given number is prime or not.\n",
    "Hint: Use loops and conditions."
   ]
  },
  {
   "cell_type": "code",
   "execution_count": 2,
   "id": "ecfd9cff",
   "metadata": {},
   "outputs": [
    {
     "data": {
      "text/plain": [
       "True"
      ]
     },
     "execution_count": 2,
     "metadata": {},
     "output_type": "execute_result"
    }
   ],
   "source": [
    "def check_prime(number):\n",
    "#     if number is negative or 1\n",
    "    if number <= 1:\n",
    "        return False\n",
    "    \n",
    "#     if number is divided by number then false\n",
    "    for i in range(2,number-1):\n",
    "        if number % i == 0:\n",
    "            return False\n",
    "    return True\n",
    "\n",
    "check_prime(13)\n"
   ]
  },
  {
   "cell_type": "markdown",
   "id": "447c4b34",
   "metadata": {},
   "source": [
    "Question 2: Create a list of integers from 1 to 100. Write a function to return a new list containing only the even numbers from the original list."
   ]
  },
  {
   "cell_type": "code",
   "execution_count": 6,
   "id": "34675fba",
   "metadata": {},
   "outputs": [
    {
     "data": {
      "text/plain": [
       "[2, 4, 6]"
      ]
     },
     "execution_count": 6,
     "metadata": {},
     "output_type": "execute_result"
    }
   ],
   "source": [
    "def getEvenList(ogList):\n",
    "    return [x for x in ogList if x %2 == 0]\n",
    "\n",
    "getEvenList([1,2,3,4,5,6])"
   ]
  },
  {
   "cell_type": "markdown",
   "id": "d72417c4",
   "metadata": {},
   "source": [
    "Question 3: Write a Python program to reverse a string without using slicing or built-in reverse functions."
   ]
  },
  {
   "cell_type": "code",
   "execution_count": 8,
   "id": "db1b30d3",
   "metadata": {},
   "outputs": [
    {
     "name": "stdout",
     "output_type": "stream",
     "text": [
      "tI esreveR\n"
     ]
    }
   ],
   "source": [
    "myString = \"Reverse It\"\n",
    "\n",
    "reversedString = \"\"\n",
    "for s in myString:\n",
    "    reversedString = s+reversedString\n",
    "\n",
    "print(reversedString)\n",
    "    "
   ]
  },
  {
   "cell_type": "markdown",
   "id": "3c057311",
   "metadata": {},
   "source": [
    "Question 4: Create a dictionary where the keys are numbers between 1 and 10, and the values are their squares."
   ]
  },
  {
   "cell_type": "code",
   "execution_count": 11,
   "id": "512b4e01",
   "metadata": {},
   "outputs": [
    {
     "name": "stdout",
     "output_type": "stream",
     "text": [
      "{1: 1, 2: 4, 3: 9, 4: 16, 5: 25, 6: 36, 7: 49, 8: 64, 9: 81, 10: 100}\n"
     ]
    }
   ],
   "source": [
    "myDict = {}\n",
    "for x in range(1,11):\n",
    "    \n",
    "    myDict[x] = x*x\n",
    "print(myDict)"
   ]
  },
  {
   "cell_type": "markdown",
   "id": "c24ee730",
   "metadata": {},
   "source": [
    "Question 5: Given the tuple (1, 2, 3, 4, 5), write a program to convert it into a list and then remove the second element."
   ]
  },
  {
   "cell_type": "code",
   "execution_count": 18,
   "id": "a8425386",
   "metadata": {},
   "outputs": [
    {
     "name": "stdout",
     "output_type": "stream",
     "text": [
      "[1, 3, 4, 5]\n"
     ]
    }
   ],
   "source": [
    "myTuple = (1,2,3,4,5)\n",
    "myList = []\n",
    "for x in myTuple:\n",
    "    myList.append(x)\n",
    "\n",
    "myList.remove(2)\n",
    "print(myList)"
   ]
  },
  {
   "cell_type": "markdown",
   "id": "bae972f0",
   "metadata": {},
   "source": [
    "Question 6: Write a Python program that prints the Fibonacci sequence up to a given number n.\n"
   ]
  },
  {
   "cell_type": "code",
   "execution_count": 25,
   "id": "38321042",
   "metadata": {},
   "outputs": [
    {
     "data": {
      "text/plain": [
       "[0, 1, 1, 2, 3, 5, 8, 13]"
      ]
     },
     "execution_count": 25,
     "metadata": {},
     "output_type": "execute_result"
    }
   ],
   "source": [
    "def getFibonacci(n):\n",
    "    fib = [0,1]\n",
    "    for x in range(n):\n",
    "        \n",
    "        if x == fib[-1] + fib[-2]:\n",
    "                fib.append(x)\n",
    "            \n",
    "    return fib\n",
    "        \n",
    "getFibonacci(19) "
   ]
  },
  {
   "cell_type": "markdown",
   "id": "b34a009d",
   "metadata": {},
   "source": [
    "Question 7: Create a function that takes a list of numbers as input and returns the largest number, without using the built-in max() function."
   ]
  },
  {
   "cell_type": "code",
   "execution_count": 27,
   "id": "f0bb655f",
   "metadata": {},
   "outputs": [
    {
     "data": {
      "text/plain": [
       "10"
      ]
     },
     "execution_count": 27,
     "metadata": {},
     "output_type": "execute_result"
    }
   ],
   "source": [
    "def getMax(numbers):\n",
    "    largest = 0\n",
    "    for x in numbers:\n",
    "        if x > largest:\n",
    "            largest = x\n",
    "    return largest\n",
    "\n",
    "getMax([-23,1,2,3,4,5,6,7,8,9,10])"
   ]
  },
  {
   "cell_type": "markdown",
   "id": "d9835fca",
   "metadata": {},
   "source": [
    "Question 8: Write a program that accepts a list of integers and prints the sum of all numbers divisible by 3 or 5."
   ]
  },
  {
   "cell_type": "code",
   "execution_count": 29,
   "id": "46333f66",
   "metadata": {},
   "outputs": [
    {
     "data": {
      "text/plain": [
       "33"
      ]
     },
     "execution_count": 29,
     "metadata": {},
     "output_type": "execute_result"
    }
   ],
   "source": [
    "def getSumDivisibleBy(numbers,a,b):\n",
    "    sumOfNumbers = 0\n",
    "    \n",
    "    for n in numbers:\n",
    "        if n%a == 0 or n %b == 0:\n",
    "            sumOfNumbers = sumOfNumbers + n\n",
    "    return sumOfNumbers\n",
    "\n",
    "getSumDivisibleBy([1,2,3,4,5,6,7,8,9,10],3,5)"
   ]
  },
  {
   "cell_type": "markdown",
   "id": "30018c32",
   "metadata": {},
   "source": [
    "Question 9: Using list comprehensions, generate a list of all multiples of 3 or 5 that are less than 100."
   ]
  },
  {
   "cell_type": "code",
   "execution_count": 33,
   "id": "e59ed93c",
   "metadata": {},
   "outputs": [
    {
     "data": {
      "text/plain": [
       "[3,\n",
       " 5,\n",
       " 6,\n",
       " 9,\n",
       " 10,\n",
       " 12,\n",
       " 15,\n",
       " 18,\n",
       " 20,\n",
       " 21,\n",
       " 24,\n",
       " 25,\n",
       " 27,\n",
       " 30,\n",
       " 33,\n",
       " 35,\n",
       " 36,\n",
       " 39,\n",
       " 40,\n",
       " 42,\n",
       " 45,\n",
       " 48,\n",
       " 50,\n",
       " 51,\n",
       " 54,\n",
       " 55,\n",
       " 57,\n",
       " 60,\n",
       " 63,\n",
       " 65,\n",
       " 66,\n",
       " 69,\n",
       " 70,\n",
       " 72,\n",
       " 75,\n",
       " 78,\n",
       " 80,\n",
       " 81,\n",
       " 84,\n",
       " 85,\n",
       " 87,\n",
       " 90,\n",
       " 93,\n",
       " 95,\n",
       " 96,\n",
       " 99]"
      ]
     },
     "execution_count": 33,
     "metadata": {},
     "output_type": "execute_result"
    }
   ],
   "source": [
    "[x for x in range(1,100) if x%3==0 or x%5 == 0]"
   ]
  },
  {
   "cell_type": "markdown",
   "id": "bbb554f2",
   "metadata": {},
   "source": [
    "Question 10: Write a recursive function to calculate the factorial of a number.\n"
   ]
  },
  {
   "cell_type": "code",
   "execution_count": 34,
   "id": "c48709c5",
   "metadata": {},
   "outputs": [
    {
     "data": {
      "text/plain": [
       "120"
      ]
     },
     "execution_count": 34,
     "metadata": {},
     "output_type": "execute_result"
    }
   ],
   "source": [
    "def getFac(n):\n",
    "    if n == 1:\n",
    "        return 1\n",
    "    else:\n",
    "        return n * getFac(n-1)\n",
    "\n",
    "getFac(5)"
   ]
  },
  {
   "cell_type": "code",
   "execution_count": null,
   "id": "e9838026",
   "metadata": {},
   "outputs": [],
   "source": []
  }
 ],
 "metadata": {
  "kernelspec": {
   "display_name": "Python 3 (ipykernel)",
   "language": "python",
   "name": "python3"
  },
  "language_info": {
   "codemirror_mode": {
    "name": "ipython",
    "version": 3
   },
   "file_extension": ".py",
   "mimetype": "text/x-python",
   "name": "python",
   "nbconvert_exporter": "python",
   "pygments_lexer": "ipython3",
   "version": "3.10.12"
  }
 },
 "nbformat": 4,
 "nbformat_minor": 5
}
